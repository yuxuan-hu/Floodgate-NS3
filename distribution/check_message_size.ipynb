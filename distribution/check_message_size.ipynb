{
 "cells": [
  {
   "cell_type": "code",
   "execution_count": null,
   "id": "4c61fe34",
   "metadata": {},
   "outputs": [],
   "source": [
    "def verify_avg_message_size(file_path):\n",
    "    try:\n",
    "        with open(file_path, 'r') as file:\n",
    "            first_line = file.readline().strip()\n",
    "            given_avg_size = float(first_line)\n",
    "\n",
    "            data = []\n",
    "            for line in file:\n",
    "                parts = line.strip().split()\n",
    "                if len(parts) == 2:\n",
    "                    msg_size = int(parts[0])\n",
    "                    cdf = float(parts[1])\n",
    "                    data.append((msg_size, cdf))\n",
    "            pmf = [data[0][1]]\n",
    "            for i in range(1, len(data)):\n",
    "                pmf.append(data[i][1] - data[i - 1][1])\n",
    "\n",
    "            calculated_avg_size = sum([data[i][0] * pmf[i] for i in range(len(data))])\n",
    "\n",
    "            print(f\"file: {given_avg_size}\")\n",
    "            print(f\"calculate: {calculated_avg_size}\")\n",
    "            diff = abs(given_avg_size - calculated_avg_size)\n",
    "            tolerance = 0.1\n",
    "            if diff < tolerance:\n",
    "                print(\"==\")\n",
    "            else:\n",
    "                print(\"!=\")\n",
    "    except FileNotFoundError:\n",
    "        print(f\"error finding file: {file_path}\")\n",
    "    except Exception as e:\n",
    "        print(f\"error reading file: {e}\")\n",
    "\n",
    "file_path = 'AliStorage2019.txt'\n",
    "verify_avg_message_size(file_path)\n"
   ]
  },
  {
   "cell_type": "code",
   "execution_count": null,
   "id": "42f954ee",
   "metadata": {},
   "outputs": [],
   "source": [
    "def calculate_avg_message_size(file_path):\n",
    "    try:\n",
    "        with open(file_path, 'r') as file:\n",
    "            data = []\n",
    "            for line in file:\n",
    "                parts = line.strip().split()\n",
    "                if len(parts) == 2:\n",
    "                    msg_size = int(parts[0])\n",
    "                    cdf = float(parts[1])\n",
    "                    data.append((msg_size, cdf))\n",
    "\n",
    "            pmf = [data[0][1]]\n",
    "            for i in range(1, len(data)):\n",
    "                pmf.append(data[i][1] - data[i - 1][1])\n",
    "\n",
    "            calculated_avg_size = sum([data[i][0] * pmf[i] for i in range(len(data))])\n",
    "\n",
    "            return calculated_avg_size\n",
    "    except FileNotFoundError:\n",
    "        print(f\"error finding file: {file_path}\")\n",
    "        return None\n",
    "    except Exception as e:\n",
    "        print(f\"error reading file: {e}\")\n",
    "        return None\n",
    "\n",
    "file_path = 'AliStorage2019.txt'\n",
    "avg_size = calculate_avg_message_size(file_path)\n",
    "if avg_size is not None:\n",
    "    print(f\"avg message size: {avg_size}\")\n"
   ]
  }
 ],
 "metadata": {
  "kernelspec": {
   "display_name": "Python 3",
   "language": "python",
   "name": "python3"
  },
  "language_info": {
   "codemirror_mode": {
    "name": "ipython",
    "version": 3
   },
   "file_extension": ".py",
   "mimetype": "text/x-python",
   "name": "python",
   "nbconvert_exporter": "python",
   "pygments_lexer": "ipython3",
   "version": "3.8.10"
  }
 },
 "nbformat": 4,
 "nbformat_minor": 5
}
